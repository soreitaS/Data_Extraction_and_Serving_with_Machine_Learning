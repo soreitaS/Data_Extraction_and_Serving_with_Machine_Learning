{
 "cells": [
  {
   "cell_type": "code",
   "execution_count": 93,
   "id": "85e829db",
   "metadata": {},
   "outputs": [],
   "source": [
    "#veri analiz kütüphaneleri\n",
    "import pandas as pd\n",
    "import numpy as np\n",
    "#görselleştirme\n",
    "import matplotlib.pyplot as plt\n",
    "import seaborn as sns\n",
    "%matplotlib inline\n",
    "import matplotlib.pyplot as plt"
   ]
  },
  {
   "cell_type": "code",
   "execution_count": 94,
   "id": "95dc57c5",
   "metadata": {},
   "outputs": [],
   "source": [
    "#veriyi import etme data\n",
    "teldata = pd.read_csv(\"./veriler/phone_data.csv\")"
   ]
  },
  {
   "cell_type": "code",
   "execution_count": 95,
   "id": "f3e132ac",
   "metadata": {},
   "outputs": [
    {
     "data": {
      "text/html": [
       "<div>\n",
       "<style scoped>\n",
       "    .dataframe tbody tr th:only-of-type {\n",
       "        vertical-align: middle;\n",
       "    }\n",
       "\n",
       "    .dataframe tbody tr th {\n",
       "        vertical-align: top;\n",
       "    }\n",
       "\n",
       "    .dataframe thead th {\n",
       "        text-align: right;\n",
       "    }\n",
       "</style>\n",
       "<table border=\"1\" class=\"dataframe\">\n",
       "  <thead>\n",
       "    <tr style=\"text-align: right;\">\n",
       "      <th></th>\n",
       "      <th>Ana Kamera FlaÅŸ</th>\n",
       "      <th>Ana Kamera Flaş</th>\n",
       "      <th>Ana Kamera Ã‡Ã¶zÃ¼nÃ¼rlÃ¼k AralÄ±ÄŸÄ±</th>\n",
       "      <th>Ana Kamera Çözünürlük Aralığı</th>\n",
       "      <th>Arka Kamera SayÄ±sÄ±</th>\n",
       "      <th>Arka Kamera Sayısı</th>\n",
       "      <th>ArttÄ±rÄ±labilir HafÄ±za (HafÄ±za KartÄ± DesteÄŸi)</th>\n",
       "      <th>Arttırılabilir Hafıza (Hafıza Kartı Desteği)</th>\n",
       "      <th>Batarya Kapasitesi AralÄ±ÄŸÄ±</th>\n",
       "      <th>Batarya Kapasitesi Aralığı</th>\n",
       "      <th>...</th>\n",
       "      <th>Ön Kamera Flaş</th>\n",
       "      <th>Ön Kamera Sayısı</th>\n",
       "      <th>Ön Kamera Çözünürlük Aralığı</th>\n",
       "      <th>Ön Kamera Çözünürlüğü</th>\n",
       "      <th>İşlemci Markası</th>\n",
       "      <th>İşletim Sistemi</th>\n",
       "      <th>Şarj Girişi</th>\n",
       "      <th>Şarj Hızı</th>\n",
       "      <th>url</th>\n",
       "      <th>price</th>\n",
       "    </tr>\n",
       "  </thead>\n",
       "  <tbody>\n",
       "    <tr>\n",
       "      <th>0</th>\n",
       "      <td>NaN</td>\n",
       "      <td>NaN</td>\n",
       "      <td>NaN</td>\n",
       "      <td>NaN</td>\n",
       "      <td>NaN</td>\n",
       "      <td>NaN</td>\n",
       "      <td>NaN</td>\n",
       "      <td>NaN</td>\n",
       "      <td>NaN</td>\n",
       "      <td>NaN</td>\n",
       "      <td>...</td>\n",
       "      <td>NaN</td>\n",
       "      <td>NaN</td>\n",
       "      <td>NaN</td>\n",
       "      <td>NaN</td>\n",
       "      <td>NaN</td>\n",
       "      <td>NaN</td>\n",
       "      <td>NaN</td>\n",
       "      <td>NaN</td>\n",
       "      <td>https://www.trendyol.com//xiaomi/redmi-12-128-...</td>\n",
       "      <td>7.612,31 TL</td>\n",
       "    </tr>\n",
       "    <tr>\n",
       "      <th>1</th>\n",
       "      <td>NaN</td>\n",
       "      <td>NaN</td>\n",
       "      <td>NaN</td>\n",
       "      <td>NaN</td>\n",
       "      <td>NaN</td>\n",
       "      <td>NaN</td>\n",
       "      <td>NaN</td>\n",
       "      <td>NaN</td>\n",
       "      <td>NaN</td>\n",
       "      <td>NaN</td>\n",
       "      <td>...</td>\n",
       "      <td>NaN</td>\n",
       "      <td>NaN</td>\n",
       "      <td>NaN</td>\n",
       "      <td>NaN</td>\n",
       "      <td>NaN</td>\n",
       "      <td>NaN</td>\n",
       "      <td>NaN</td>\n",
       "      <td>NaN</td>\n",
       "      <td>https://www.trendyol.com//xiaomi/redmi-12c-128...</td>\n",
       "      <td>5.149 TL</td>\n",
       "    </tr>\n",
       "    <tr>\n",
       "      <th>2</th>\n",
       "      <td>NaN</td>\n",
       "      <td>NaN</td>\n",
       "      <td>NaN</td>\n",
       "      <td>NaN</td>\n",
       "      <td>NaN</td>\n",
       "      <td>NaN</td>\n",
       "      <td>NaN</td>\n",
       "      <td>NaN</td>\n",
       "      <td>NaN</td>\n",
       "      <td>NaN</td>\n",
       "      <td>...</td>\n",
       "      <td>NaN</td>\n",
       "      <td>NaN</td>\n",
       "      <td>NaN</td>\n",
       "      <td>NaN</td>\n",
       "      <td>NaN</td>\n",
       "      <td>NaN</td>\n",
       "      <td>NaN</td>\n",
       "      <td>NaN</td>\n",
       "      <td>https://www.trendyol.com//apple/iphone-15-128-...</td>\n",
       "      <td>50.499 TL</td>\n",
       "    </tr>\n",
       "    <tr>\n",
       "      <th>3</th>\n",
       "      <td>NaN</td>\n",
       "      <td>Var</td>\n",
       "      <td>NaN</td>\n",
       "      <td>40 - 60 MP</td>\n",
       "      <td>NaN</td>\n",
       "      <td>3</td>\n",
       "      <td>NaN</td>\n",
       "      <td>Var</td>\n",
       "      <td>NaN</td>\n",
       "      <td>5000-6000 mAh</td>\n",
       "      <td>...</td>\n",
       "      <td>Yok</td>\n",
       "      <td>1</td>\n",
       "      <td>40 - 60 MP</td>\n",
       "      <td>14 - 20 MP</td>\n",
       "      <td>NaN</td>\n",
       "      <td>Android</td>\n",
       "      <td>USB Type-C</td>\n",
       "      <td>NaN</td>\n",
       "      <td>https://www.trendyol.com//reeder/s19-max-pro-4...</td>\n",
       "      <td>2.999 TL</td>\n",
       "    </tr>\n",
       "    <tr>\n",
       "      <th>4</th>\n",
       "      <td>NaN</td>\n",
       "      <td>NaN</td>\n",
       "      <td>NaN</td>\n",
       "      <td>NaN</td>\n",
       "      <td>NaN</td>\n",
       "      <td>NaN</td>\n",
       "      <td>NaN</td>\n",
       "      <td>NaN</td>\n",
       "      <td>NaN</td>\n",
       "      <td>NaN</td>\n",
       "      <td>...</td>\n",
       "      <td>NaN</td>\n",
       "      <td>NaN</td>\n",
       "      <td>NaN</td>\n",
       "      <td>NaN</td>\n",
       "      <td>NaN</td>\n",
       "      <td>NaN</td>\n",
       "      <td>NaN</td>\n",
       "      <td>NaN</td>\n",
       "      <td>https://www.trendyol.com//samsung/galaxy-a54-5...</td>\n",
       "      <td>15.999 TL</td>\n",
       "    </tr>\n",
       "  </tbody>\n",
       "</table>\n",
       "<p>5 rows × 78 columns</p>\n",
       "</div>"
      ],
      "text/plain": [
       "  Ana Kamera FlaÅŸ Ana Kamera Flaş Ana Kamera Ã‡Ã¶zÃ¼nÃ¼rlÃ¼k AralÄ±ÄŸÄ±  \\\n",
       "0              NaN             NaN                                   NaN   \n",
       "1              NaN             NaN                                   NaN   \n",
       "2              NaN             NaN                                   NaN   \n",
       "3              NaN             Var                                   NaN   \n",
       "4              NaN             NaN                                   NaN   \n",
       "\n",
       "  Ana Kamera Çözünürlük Aralığı  Arka Kamera SayÄ±sÄ± Arka Kamera Sayısı  \\\n",
       "0                           NaN                   NaN                NaN   \n",
       "1                           NaN                   NaN                NaN   \n",
       "2                           NaN                   NaN                NaN   \n",
       "3                    40 - 60 MP                   NaN                  3   \n",
       "4                           NaN                   NaN                NaN   \n",
       "\n",
       "  ArttÄ±rÄ±labilir HafÄ±za (HafÄ±za KartÄ± DesteÄŸi)  \\\n",
       "0                                                NaN   \n",
       "1                                                NaN   \n",
       "2                                                NaN   \n",
       "3                                                NaN   \n",
       "4                                                NaN   \n",
       "\n",
       "  Arttırılabilir Hafıza (Hafıza Kartı Desteği) Batarya Kapasitesi AralÄ±ÄŸÄ±  \\\n",
       "0                                          NaN                           NaN   \n",
       "1                                          NaN                           NaN   \n",
       "2                                          NaN                           NaN   \n",
       "3                                          Var                           NaN   \n",
       "4                                          NaN                           NaN   \n",
       "\n",
       "  Batarya Kapasitesi Aralığı  ... Ön Kamera Flaş Ön Kamera Sayısı  \\\n",
       "0                        NaN  ...            NaN              NaN   \n",
       "1                        NaN  ...            NaN              NaN   \n",
       "2                        NaN  ...            NaN              NaN   \n",
       "3              5000-6000 mAh  ...            Yok                1   \n",
       "4                        NaN  ...            NaN              NaN   \n",
       "\n",
       "  Ön Kamera Çözünürlük Aralığı Ön Kamera Çözünürlüğü İşlemci Markası  \\\n",
       "0                          NaN                   NaN             NaN   \n",
       "1                          NaN                   NaN             NaN   \n",
       "2                          NaN                   NaN             NaN   \n",
       "3                   40 - 60 MP            14 - 20 MP             NaN   \n",
       "4                          NaN                   NaN             NaN   \n",
       "\n",
       "  İşletim Sistemi Şarj Girişi Şarj Hızı  \\\n",
       "0             NaN         NaN       NaN   \n",
       "1             NaN         NaN       NaN   \n",
       "2             NaN         NaN       NaN   \n",
       "3         Android  USB Type-C       NaN   \n",
       "4             NaN         NaN       NaN   \n",
       "\n",
       "                                                 url        price  \n",
       "0  https://www.trendyol.com//xiaomi/redmi-12-128-...  7.612,31 TL  \n",
       "1  https://www.trendyol.com//xiaomi/redmi-12c-128...     5.149 TL  \n",
       "2  https://www.trendyol.com//apple/iphone-15-128-...    50.499 TL  \n",
       "3  https://www.trendyol.com//reeder/s19-max-pro-4...     2.999 TL  \n",
       "4  https://www.trendyol.com//samsung/galaxy-a54-5...    15.999 TL  \n",
       "\n",
       "[5 rows x 78 columns]"
      ]
     },
     "execution_count": 95,
     "metadata": {},
     "output_type": "execute_result"
    }
   ],
   "source": [
    "#ilk beş satır\n",
    "teldata.head()"
   ]
  },
  {
   "cell_type": "code",
   "execution_count": 96,
   "id": "ee3e27e3",
   "metadata": {},
   "outputs": [
    {
     "data": {
      "text/plain": [
       "(456, 78)"
      ]
     },
     "execution_count": 96,
     "metadata": {},
     "output_type": "execute_result"
    }
   ],
   "source": [
    "#verinin şekli \n",
    "teldata.shape"
   ]
  },
  {
   "cell_type": "code",
   "execution_count": 97,
   "id": "1f70d61d",
   "metadata": {},
   "outputs": [
    {
     "name": "stdout",
     "output_type": "stream",
     "text": [
      "<class 'pandas.core.frame.DataFrame'>\n",
      "RangeIndex: 456 entries, 0 to 455\n",
      "Data columns (total 78 columns):\n",
      " #   Column                                              Non-Null Count  Dtype  \n",
      "---  ------                                              --------------  -----  \n",
      " 0   Ana Kamera FlaÅŸ                                    14 non-null     object \n",
      " 1   Ana Kamera Flaş                                     167 non-null    object \n",
      " 2   Ana Kamera Ã‡Ã¶zÃ¼nÃ¼rlÃ¼k AralÄ±ÄŸÄ±               27 non-null     object \n",
      " 3   Ana Kamera Çözünürlük Aralığı                       319 non-null    object \n",
      " 4   Arka Kamera SayÄ±sÄ±                                27 non-null     float64\n",
      " 5   Arka Kamera Sayısı                                  319 non-null    object \n",
      " 6   ArttÄ±rÄ±labilir HafÄ±za (HafÄ±za KartÄ± DesteÄŸi)  17 non-null     object \n",
      " 7   Arttırılabilir Hafıza (Hafıza Kartı Desteği)        183 non-null    object \n",
      " 8   Batarya Kapasitesi AralÄ±ÄŸÄ±                       27 non-null     object \n",
      " 9   Batarya Kapasitesi Aralığı                          319 non-null    object \n",
      " 10  BaÄŸlantÄ±lar                                       14 non-null     object \n",
      " 11  Bağlantılar                                         148 non-null    object \n",
      " 12  Bluetooth                                           200 non-null    object \n",
      " 13  CPU AralÄ±k                                         15 non-null     object \n",
      " 14  CPU Aralık                                          139 non-null    object \n",
      " 15  Cep Telefonu Modeli                                 190 non-null    object \n",
      " 16  Dahili HafÄ±za                                      27 non-null     object \n",
      " 17  Dahili Hafıza                                       319 non-null    object \n",
      " 18  Dokunmatik Ekran                                    346 non-null    object \n",
      " 19  Ekran Boyut AralÄ±ÄŸÄ±                              27 non-null     object \n",
      " 20  Ekran Boyut Aralığı                                 319 non-null    object \n",
      " 21  Ekran Boyutu                                        346 non-null    object \n",
      " 22  Ekran Cinsi                                         211 non-null    object \n",
      " 23  Ekran Teknolojisi                                   213 non-null    object \n",
      " 24  Ekran Yenileme HÄ±zÄ±                               16 non-null     object \n",
      " 25  Ekran Yenileme Hızı                                 164 non-null    object \n",
      " 26  Ekran Ã‡Ã¶zÃ¼nÃ¼rlÃ¼ÄŸÃ¼                            18 non-null     object \n",
      " 27  Ekran Çözünürlüğü                                   168 non-null    object \n",
      " 28  GPS                                                 190 non-null    object \n",
      " 29  Garanti SÃ¼resi                                     27 non-null     object \n",
      " 30  Garanti Süresi                                      319 non-null    object \n",
      " 31  Garanti Tipi                                        346 non-null    object \n",
      " 32  GÃ¶rÃ¼ntÃ¼ Teknolojisi                              13 non-null     object \n",
      " 33  GÃ¶rÃ¼ntÃ¼lÃ¼ KonuÅŸma                              17 non-null     object \n",
      " 34  Görüntü Teknolojisi                                 142 non-null    object \n",
      " 35  Görüntülü Konuşma                                   161 non-null    object \n",
      " 36  Kablosuz Åžarj                                      16 non-null     object \n",
      " 37  Kablosuz Şarj                                       171 non-null    object \n",
      " 38  Kamera Ã‡Ã¶zÃ¼nÃ¼rlÃ¼ÄŸÃ¼                           27 non-null     object \n",
      " 39  Kamera Çözünürlüğü                                  319 non-null    object \n",
      " 40  KulaklÄ±k GiriÅŸi                                   27 non-null     object \n",
      " 41  Kulaklık Girişi                                     319 non-null    object \n",
      " 42  Mobil BaÄŸlantÄ± HÄ±zÄ±                             27 non-null     object \n",
      " 43  Mobil Bağlantı Hızı                                 319 non-null    object \n",
      " 44  NFC                                                 346 non-null    object \n",
      " 45  Parmak Ä°zi Okuyucu                                 18 non-null     object \n",
      " 46  Parmak İzi Okuyucu                                  175 non-null    object \n",
      " 47  Pil GÃ¼cÃ¼ (mAh)                                    27 non-null     object \n",
      " 48  Pil Gücü (mAh)                                      319 non-null    object \n",
      " 49  RAM Kapasitesi                                      346 non-null    object \n",
      " 50  Radio                                               158 non-null    object \n",
      " 51  Renk                                                346 non-null    object \n",
      " 52  Suya/Toza DayanÄ±klÄ±lÄ±k                           27 non-null     object \n",
      " 53  Suya/Toza Dayanıklılık                              319 non-null    object \n",
      " 54  Video KayÄ±t Ã‡Ã¶zÃ¼nÃ¼rlÃ¼ÄŸÃ¼                     15 non-null     object \n",
      " 55  Video Kayıt Çözünürlüğü                             150 non-null    object \n",
      " 56  YÃ¼z TanÄ±ma                                        17 non-null     object \n",
      " 57  Yüz Tanıma                                          175 non-null    object \n",
      " 58  Ã–n Kamera FlaÅŸ                                    13 non-null     object \n",
      " 59  Ã–n Kamera SayÄ±sÄ±                                 27 non-null     float64\n",
      " 60  Ã–n Kamera Ã‡Ã¶zÃ¼nÃ¼rlÃ¼k AralÄ±ÄŸÄ±               27 non-null     object \n",
      " 61  Ã–n Kamera Ã‡Ã¶zÃ¼nÃ¼rlÃ¼ÄŸÃ¼                       19 non-null     object \n",
      " 62  Ã‡ift Hat                                           27 non-null     object \n",
      " 63  Ä°ÅŸlemci MarkasÄ±                                  20 non-null     object \n",
      " 64  Ä°ÅŸletim Sistemi                                   27 non-null     object \n",
      " 65  Åžarj GiriÅŸi                                       27 non-null     object \n",
      " 66  Åžarj HÄ±zÄ±                                        15 non-null     object \n",
      " 67  Çift Hat                                            319 non-null    object \n",
      " 68  Ön Kamera Flaş                                      149 non-null    object \n",
      " 69  Ön Kamera Sayısı                                    319 non-null    object \n",
      " 70  Ön Kamera Çözünürlük Aralığı                        319 non-null    object \n",
      " 71  Ön Kamera Çözünürlüğü                               176 non-null    object \n",
      " 72  İşlemci Markası                                     158 non-null    object \n",
      " 73  İşletim Sistemi                                     319 non-null    object \n",
      " 74  Şarj Girişi                                         319 non-null    object \n",
      " 75  Şarj Hızı                                           158 non-null    object \n",
      " 76  url                                                 456 non-null    object \n",
      " 77  price                                               456 non-null    object \n",
      "dtypes: float64(2), object(76)\n",
      "memory usage: 278.0+ KB\n"
     ]
    }
   ],
   "source": [
    "#veri ile ilgili kısa bilgiler: veri türü, boş alan var mı yok mu?\n",
    "teldata.info()"
   ]
  },
  {
   "cell_type": "code",
   "execution_count": 98,
   "id": "49aa0549",
   "metadata": {},
   "outputs": [
    {
     "data": {
      "text/html": [
       "<div>\n",
       "<style scoped>\n",
       "    .dataframe tbody tr th:only-of-type {\n",
       "        vertical-align: middle;\n",
       "    }\n",
       "\n",
       "    .dataframe tbody tr th {\n",
       "        vertical-align: top;\n",
       "    }\n",
       "\n",
       "    .dataframe thead th {\n",
       "        text-align: right;\n",
       "    }\n",
       "</style>\n",
       "<table border=\"1\" class=\"dataframe\">\n",
       "  <thead>\n",
       "    <tr style=\"text-align: right;\">\n",
       "      <th></th>\n",
       "      <th>Arka Kamera SayÄ±sÄ±</th>\n",
       "      <th>Ã–n Kamera SayÄ±sÄ±</th>\n",
       "    </tr>\n",
       "  </thead>\n",
       "  <tbody>\n",
       "    <tr>\n",
       "      <th>count</th>\n",
       "      <td>27.000000</td>\n",
       "      <td>27.0</td>\n",
       "    </tr>\n",
       "    <tr>\n",
       "      <th>mean</th>\n",
       "      <td>2.740741</td>\n",
       "      <td>1.0</td>\n",
       "    </tr>\n",
       "    <tr>\n",
       "      <th>std</th>\n",
       "      <td>0.525693</td>\n",
       "      <td>0.0</td>\n",
       "    </tr>\n",
       "    <tr>\n",
       "      <th>min</th>\n",
       "      <td>2.000000</td>\n",
       "      <td>1.0</td>\n",
       "    </tr>\n",
       "    <tr>\n",
       "      <th>25%</th>\n",
       "      <td>2.000000</td>\n",
       "      <td>1.0</td>\n",
       "    </tr>\n",
       "    <tr>\n",
       "      <th>50%</th>\n",
       "      <td>3.000000</td>\n",
       "      <td>1.0</td>\n",
       "    </tr>\n",
       "    <tr>\n",
       "      <th>75%</th>\n",
       "      <td>3.000000</td>\n",
       "      <td>1.0</td>\n",
       "    </tr>\n",
       "    <tr>\n",
       "      <th>max</th>\n",
       "      <td>4.000000</td>\n",
       "      <td>1.0</td>\n",
       "    </tr>\n",
       "  </tbody>\n",
       "</table>\n",
       "</div>"
      ],
      "text/plain": [
       "       Arka Kamera SayÄ±sÄ±  Ã–n Kamera SayÄ±sÄ±\n",
       "count             27.000000                 27.0\n",
       "mean               2.740741                  1.0\n",
       "std                0.525693                  0.0\n",
       "min                2.000000                  1.0\n",
       "25%                2.000000                  1.0\n",
       "50%                3.000000                  1.0\n",
       "75%                3.000000                  1.0\n",
       "max                4.000000                  1.0"
      ]
     },
     "execution_count": 98,
     "metadata": {},
     "output_type": "execute_result"
    }
   ],
   "source": [
    "#describe() metodu ile nümerik alanların istatistiksel özelliklerini görelim\n",
    "teldata.describe()"
   ]
  },
  {
   "cell_type": "code",
   "execution_count": 99,
   "id": "ebd7e250",
   "metadata": {},
   "outputs": [
    {
     "data": {
      "text/plain": [
       "Ana Kamera FlaÅŸ                         442\n",
       "Ana Kamera Flaş                          289\n",
       "Ana Kamera Ã‡Ã¶zÃ¼nÃ¼rlÃ¼k AralÄ±ÄŸÄ±    429\n",
       "Ana Kamera Çözünürlük Aralığı            137\n",
       "Arka Kamera SayÄ±sÄ±                     429\n",
       "                                        ... \n",
       "İşletim Sistemi                          137\n",
       "Şarj Girişi                              137\n",
       "Şarj Hızı                                298\n",
       "url                                        0\n",
       "price                                      0\n",
       "Length: 78, dtype: int64"
      ]
     },
     "execution_count": 99,
     "metadata": {},
     "output_type": "execute_result"
    }
   ],
   "source": [
    "#eksik veri sayısı\n",
    "teldata.isna().sum()"
   ]
  },
  {
   "cell_type": "code",
   "execution_count": 100,
   "id": "c6f7d0e6",
   "metadata": {},
   "outputs": [
    {
     "name": "stdout",
     "output_type": "stream",
     "text": [
      "<class 'pandas.core.frame.DataFrame'>\n",
      "RangeIndex: 456 entries, 0 to 455\n",
      "Data columns (total 78 columns):\n",
      " #   Column                                              Non-Null Count  Dtype  \n",
      "---  ------                                              --------------  -----  \n",
      " 0   Ana Kamera FlaÅŸ                                    14 non-null     object \n",
      " 1   Ana Kamera Flaş                                     167 non-null    object \n",
      " 2   Ana Kamera Ã‡Ã¶zÃ¼nÃ¼rlÃ¼k AralÄ±ÄŸÄ±               27 non-null     object \n",
      " 3   Ana Kamera Çözünürlük Aralığı                       319 non-null    object \n",
      " 4   Arka Kamera SayÄ±sÄ±                                27 non-null     float64\n",
      " 5   Arka Kamera Sayısı                                  319 non-null    object \n",
      " 6   ArttÄ±rÄ±labilir HafÄ±za (HafÄ±za KartÄ± DesteÄŸi)  17 non-null     object \n",
      " 7   Arttırılabilir Hafıza (Hafıza Kartı Desteği)        183 non-null    object \n",
      " 8   Batarya Kapasitesi AralÄ±ÄŸÄ±                       27 non-null     object \n",
      " 9   Batarya Kapasitesi Aralığı                          319 non-null    object \n",
      " 10  BaÄŸlantÄ±lar                                       14 non-null     object \n",
      " 11  Bağlantılar                                         148 non-null    object \n",
      " 12  Bluetooth                                           200 non-null    object \n",
      " 13  CPU AralÄ±k                                         15 non-null     object \n",
      " 14  CPU Aralık                                          139 non-null    object \n",
      " 15  Cep Telefonu Modeli                                 190 non-null    object \n",
      " 16  Dahili HafÄ±za                                      27 non-null     object \n",
      " 17  Dahili Hafıza                                       319 non-null    object \n",
      " 18  Dokunmatik Ekran                                    346 non-null    object \n",
      " 19  Ekran Boyut AralÄ±ÄŸÄ±                              27 non-null     object \n",
      " 20  Ekran Boyut Aralığı                                 319 non-null    object \n",
      " 21  Ekran Boyutu                                        346 non-null    object \n",
      " 22  Ekran Cinsi                                         211 non-null    object \n",
      " 23  Ekran Teknolojisi                                   213 non-null    object \n",
      " 24  Ekran Yenileme HÄ±zÄ±                               16 non-null     object \n",
      " 25  Ekran Yenileme Hızı                                 164 non-null    object \n",
      " 26  Ekran Ã‡Ã¶zÃ¼nÃ¼rlÃ¼ÄŸÃ¼                            18 non-null     object \n",
      " 27  Ekran Çözünürlüğü                                   168 non-null    object \n",
      " 28  GPS                                                 190 non-null    object \n",
      " 29  Garanti SÃ¼resi                                     27 non-null     object \n",
      " 30  Garanti Süresi                                      319 non-null    object \n",
      " 31  Garanti Tipi                                        346 non-null    object \n",
      " 32  GÃ¶rÃ¼ntÃ¼ Teknolojisi                              13 non-null     object \n",
      " 33  GÃ¶rÃ¼ntÃ¼lÃ¼ KonuÅŸma                              17 non-null     object \n",
      " 34  Görüntü Teknolojisi                                 142 non-null    object \n",
      " 35  Görüntülü Konuşma                                   161 non-null    object \n",
      " 36  Kablosuz Åžarj                                      16 non-null     object \n",
      " 37  Kablosuz Şarj                                       171 non-null    object \n",
      " 38  Kamera Ã‡Ã¶zÃ¼nÃ¼rlÃ¼ÄŸÃ¼                           27 non-null     object \n",
      " 39  Kamera Çözünürlüğü                                  319 non-null    object \n",
      " 40  KulaklÄ±k GiriÅŸi                                   27 non-null     object \n",
      " 41  Kulaklık Girişi                                     319 non-null    object \n",
      " 42  Mobil BaÄŸlantÄ± HÄ±zÄ±                             27 non-null     object \n",
      " 43  Mobil Bağlantı Hızı                                 319 non-null    object \n",
      " 44  NFC                                                 346 non-null    object \n",
      " 45  Parmak Ä°zi Okuyucu                                 18 non-null     object \n",
      " 46  Parmak İzi Okuyucu                                  175 non-null    object \n",
      " 47  Pil GÃ¼cÃ¼ (mAh)                                    27 non-null     object \n",
      " 48  Pil Gücü (mAh)                                      319 non-null    object \n",
      " 49  RAM Kapasitesi                                      346 non-null    object \n",
      " 50  Radio                                               158 non-null    object \n",
      " 51  Renk                                                346 non-null    object \n",
      " 52  Suya/Toza DayanÄ±klÄ±lÄ±k                           27 non-null     object \n",
      " 53  Suya/Toza Dayanıklılık                              319 non-null    object \n",
      " 54  Video KayÄ±t Ã‡Ã¶zÃ¼nÃ¼rlÃ¼ÄŸÃ¼                     15 non-null     object \n",
      " 55  Video Kayıt Çözünürlüğü                             150 non-null    object \n",
      " 56  YÃ¼z TanÄ±ma                                        17 non-null     object \n",
      " 57  Yüz Tanıma                                          175 non-null    object \n",
      " 58  Ã–n Kamera FlaÅŸ                                    13 non-null     object \n",
      " 59  Ã–n Kamera SayÄ±sÄ±                                 27 non-null     float64\n",
      " 60  Ã–n Kamera Ã‡Ã¶zÃ¼nÃ¼rlÃ¼k AralÄ±ÄŸÄ±               27 non-null     object \n",
      " 61  Ã–n Kamera Ã‡Ã¶zÃ¼nÃ¼rlÃ¼ÄŸÃ¼                       19 non-null     object \n",
      " 62  Ã‡ift Hat                                           27 non-null     object \n",
      " 63  Ä°ÅŸlemci MarkasÄ±                                  20 non-null     object \n",
      " 64  Ä°ÅŸletim Sistemi                                   27 non-null     object \n",
      " 65  Åžarj GiriÅŸi                                       27 non-null     object \n",
      " 66  Åžarj HÄ±zÄ±                                        15 non-null     object \n",
      " 67  Çift Hat                                            319 non-null    object \n",
      " 68  Ön Kamera Flaş                                      149 non-null    object \n",
      " 69  Ön Kamera Sayısı                                    319 non-null    object \n",
      " 70  Ön Kamera Çözünürlük Aralığı                        319 non-null    object \n",
      " 71  Ön Kamera Çözünürlüğü                               176 non-null    object \n",
      " 72  İşlemci Markası                                     158 non-null    object \n",
      " 73  İşletim Sistemi                                     319 non-null    object \n",
      " 74  Şarj Girişi                                         319 non-null    object \n",
      " 75  Şarj Hızı                                           158 non-null    object \n",
      " 76  url                                                 456 non-null    object \n",
      " 77  price                                               456 non-null    object \n",
      "dtypes: float64(2), object(76)\n",
      "memory usage: 278.0+ KB\n"
     ]
    }
   ],
   "source": [
    "teldata.info()"
   ]
  },
  {
   "cell_type": "code",
   "execution_count": 101,
   "id": "f7a2b6a6",
   "metadata": {},
   "outputs": [],
   "source": [
    "teldata = teldata.drop(['Ana Kamera FlaÅŸ'], axis=1)"
   ]
  },
  {
   "cell_type": "code",
   "execution_count": 102,
   "id": "442fcc77",
   "metadata": {},
   "outputs": [],
   "source": [
    "teldata = teldata.drop(['Ana Kamera Flaş'], axis=1)"
   ]
  },
  {
   "cell_type": "code",
   "execution_count": 103,
   "id": "33691d94",
   "metadata": {},
   "outputs": [],
   "source": [
    "teldata = teldata.drop(['Ana Kamera Ã‡Ã¶zÃ¼nÃ¼rlÃ¼k AralÄ±ÄŸÄ±', 'Ana Kamera Çözünürlük Aralığı','Arka Kamera SayÄ±sÄ±','Arka Kamera Sayısı',\n",
    "            'ArttÄ±rÄ±labilir HafÄ±za (HafÄ±za KartÄ± DesteÄŸi)','Arttırılabilir Hafıza (Hafıza Kartı Desteği)','Batarya Kapasitesi AralÄ±ÄŸÄ±','Batarya Kapasitesi Aralığı'], axis=1)"
   ]
  },
  {
   "cell_type": "code",
   "execution_count": 104,
   "id": "63542970",
   "metadata": {},
   "outputs": [],
   "source": [
    "teldata = teldata.drop(['BaÄŸlantÄ±lar', 'Bağlantılar','Bluetooth','CPU AralÄ±k',\n",
    "            'Dahili HafÄ±za','Dokunmatik Ekran','Ekran Boyut AralÄ±ÄŸÄ±','Ekran Boyut Aralığı'], axis=1)"
   ]
  },
  {
   "cell_type": "code",
   "execution_count": 105,
   "id": "420b4ae2",
   "metadata": {},
   "outputs": [],
   "source": [
    "teldata = teldata.drop(['CPU Aralık', 'Ekran Teknolojisi','Ekran Yenileme HÄ±zÄ±','Ekran Ã‡Ã¶zÃ¼nÃ¼rlÃ¼ÄŸÃ¼',\n",
    "            'Ekran Ã‡Ã¶zÃ¼nÃ¼rlÃ¼ÄŸÃ¼'], axis=1)"
   ]
  },
  {
   "cell_type": "code",
   "execution_count": 106,
   "id": "44fed16a",
   "metadata": {},
   "outputs": [],
   "source": [
    "teldata = teldata.drop(['Ekran Yenileme Hızı','Ekran Çözünürlüğü','GPS','Garanti SÃ¼resi','GÃ¶rÃ¼ntÃ¼ Teknolojisi','GÃ¶rÃ¼ntÃ¼lÃ¼ KonuÅŸma','KulaklÄ±k GiriÅŸi'], axis=1)"
   ]
  },
  {
   "cell_type": "code",
   "execution_count": 107,
   "id": "5921c10d",
   "metadata": {},
   "outputs": [],
   "source": [
    "teldata = teldata.drop(['Kamera Ã‡Ã¶zÃ¼nÃ¼rlÃ¼ÄŸÃ¼','Kablosuz Şarj','Kablosuz Åžarj','Görüntülü Konuşma','Görüntü Teknolojisi','YÃ¼z TanÄ±ma','Video Kayıt Çözünürlüğü','Video KayÄ±t Ã‡Ã¶zÃ¼nÃ¼rlÃ¼ÄŸÃ¼'], axis=1)            "
   ]
  },
  {
   "cell_type": "code",
   "execution_count": 108,
   "id": "09be0cae",
   "metadata": {},
   "outputs": [],
   "source": [
    "teldata = teldata.drop(['Suya/Toza Dayanıklılık','Suya/Toza DayanÄ±klÄ±lÄ±k','Radio','Pil GÃ¼cÃ¼ (mAh)','Parmak İzi Okuyucu','Parmak Ä°zi Okuyucu','Mobil Bağlantı Hızı','Mobil BaÄŸlantÄ± HÄ±zÄ±'], axis=1)"
   ]
  },
  {
   "cell_type": "code",
   "execution_count": 109,
   "id": "fe7993d9",
   "metadata": {},
   "outputs": [],
   "source": [
    "teldata = teldata.drop(['Kulaklık Girişi','Ön Kamera Sayısı','Ön Kamera Flaş','Çift Hat','Åžarj HÄ±zÄ±','Åžarj GiriÅŸi','Ä°ÅŸletim Sistemi','Ä°ÅŸlemci MarkasÄ±','Ã‡ift Hat','Ã–n Kamera Ã‡Ã¶zÃ¼nÃ¼rlÃ¼ÄŸÃ¼','Ã–n Kamera Ã‡Ã¶zÃ¼nÃ¼rlÃ¼k AralÄ±ÄŸÄ±','Ã–n Kamera SayÄ±sÄ±','Ã–n Kamera FlaÅŸ'], axis=1)"
   ]
  },
  {
   "cell_type": "code",
   "execution_count": 110,
   "id": "5897e431",
   "metadata": {},
   "outputs": [],
   "source": [
    "teldata = teldata.drop(['Garanti Tipi','Renk','Garanti Süresi','NFC','Yüz Tanıma','Ön Kamera Çözünürlük Aralığı','İşlemci Markası','Cep Telefonu Modeli','Şarj Hızı','Şarj Girişi','Ön Kamera Çözünürlüğü'],axis=1)"
   ]
  },
  {
   "cell_type": "code",
   "execution_count": 111,
   "id": "78bc7bd6",
   "metadata": {
    "scrolled": true
   },
   "outputs": [
    {
     "name": "stdout",
     "output_type": "stream",
     "text": [
      "<class 'pandas.core.frame.DataFrame'>\n",
      "RangeIndex: 456 entries, 0 to 455\n",
      "Data columns (total 9 columns):\n",
      " #   Column              Non-Null Count  Dtype \n",
      "---  ------              --------------  ----- \n",
      " 0   Dahili Hafıza       319 non-null    object\n",
      " 1   Ekran Boyutu        346 non-null    object\n",
      " 2   Ekran Cinsi         211 non-null    object\n",
      " 3   Kamera Çözünürlüğü  319 non-null    object\n",
      " 4   Pil Gücü (mAh)      319 non-null    object\n",
      " 5   RAM Kapasitesi      346 non-null    object\n",
      " 6   İşletim Sistemi     319 non-null    object\n",
      " 7   url                 456 non-null    object\n",
      " 8   price               456 non-null    object\n",
      "dtypes: object(9)\n",
      "memory usage: 32.2+ KB\n"
     ]
    }
   ],
   "source": [
    "teldata.info()"
   ]
  },
  {
   "cell_type": "code",
   "execution_count": 112,
   "id": "49f34289",
   "metadata": {},
   "outputs": [
    {
     "data": {
      "text/plain": [
       "Index(['Dahili Hafıza', 'Ekran Boyutu', 'Ekran Cinsi', 'Kamera Çözünürlüğü',\n",
       "       'Pil Gücü (mAh)', 'RAM Kapasitesi', 'İşletim Sistemi', 'url', 'price'],\n",
       "      dtype='object')"
      ]
     },
     "execution_count": 112,
     "metadata": {},
     "output_type": "execute_result"
    }
   ],
   "source": [
    "teldata.columns"
   ]
  },
  {
   "cell_type": "code",
   "execution_count": 159,
   "id": "24299924",
   "metadata": {},
   "outputs": [
    {
     "data": {
      "text/html": [
       "<div>\n",
       "<style scoped>\n",
       "    .dataframe tbody tr th:only-of-type {\n",
       "        vertical-align: middle;\n",
       "    }\n",
       "\n",
       "    .dataframe tbody tr th {\n",
       "        vertical-align: top;\n",
       "    }\n",
       "\n",
       "    .dataframe thead th {\n",
       "        text-align: right;\n",
       "    }\n",
       "</style>\n",
       "<table border=\"1\" class=\"dataframe\">\n",
       "  <thead>\n",
       "    <tr style=\"text-align: right;\">\n",
       "      <th></th>\n",
       "      <th>Dahili_Hafıza</th>\n",
       "      <th>Ekran_Boyutu</th>\n",
       "      <th>RAM_Kapasitesi</th>\n",
       "      <th>İşletim_Sistemi</th>\n",
       "      <th>price</th>\n",
       "    </tr>\n",
       "  </thead>\n",
       "  <tbody>\n",
       "    <tr>\n",
       "      <th>1</th>\n",
       "      <td>NaN</td>\n",
       "      <td>NaN</td>\n",
       "      <td>NaN</td>\n",
       "      <td>NaN</td>\n",
       "      <td>5149.0</td>\n",
       "    </tr>\n",
       "    <tr>\n",
       "      <th>2</th>\n",
       "      <td>NaN</td>\n",
       "      <td>NaN</td>\n",
       "      <td>NaN</td>\n",
       "      <td>NaN</td>\n",
       "      <td>50499.0</td>\n",
       "    </tr>\n",
       "    <tr>\n",
       "      <th>3</th>\n",
       "      <td>NaN</td>\n",
       "      <td>NaN</td>\n",
       "      <td>4.0</td>\n",
       "      <td>Android</td>\n",
       "      <td>2999.0</td>\n",
       "    </tr>\n",
       "    <tr>\n",
       "      <th>4</th>\n",
       "      <td>NaN</td>\n",
       "      <td>NaN</td>\n",
       "      <td>NaN</td>\n",
       "      <td>NaN</td>\n",
       "      <td>15999.0</td>\n",
       "    </tr>\n",
       "    <tr>\n",
       "      <th>5</th>\n",
       "      <td>NaN</td>\n",
       "      <td>NaN</td>\n",
       "      <td>8.0</td>\n",
       "      <td>Android</td>\n",
       "      <td>8799.0</td>\n",
       "    </tr>\n",
       "    <tr>\n",
       "      <th>6</th>\n",
       "      <td>NaN</td>\n",
       "      <td>NaN</td>\n",
       "      <td>NaN</td>\n",
       "      <td>NaN</td>\n",
       "      <td>2999.0</td>\n",
       "    </tr>\n",
       "    <tr>\n",
       "      <th>7</th>\n",
       "      <td>NaN</td>\n",
       "      <td>NaN</td>\n",
       "      <td>4.0</td>\n",
       "      <td>iOS</td>\n",
       "      <td>28299.0</td>\n",
       "    </tr>\n",
       "    <tr>\n",
       "      <th>8</th>\n",
       "      <td>NaN</td>\n",
       "      <td>NaN</td>\n",
       "      <td>4.0</td>\n",
       "      <td>Android</td>\n",
       "      <td>5149.0</td>\n",
       "    </tr>\n",
       "    <tr>\n",
       "      <th>9</th>\n",
       "      <td>NaN</td>\n",
       "      <td>NaN</td>\n",
       "      <td>NaN</td>\n",
       "      <td>NaN</td>\n",
       "      <td>12599.0</td>\n",
       "    </tr>\n",
       "    <tr>\n",
       "      <th>10</th>\n",
       "      <td>NaN</td>\n",
       "      <td>NaN</td>\n",
       "      <td>4.0</td>\n",
       "      <td>Android</td>\n",
       "      <td>2999.0</td>\n",
       "    </tr>\n",
       "    <tr>\n",
       "      <th>11</th>\n",
       "      <td>NaN</td>\n",
       "      <td>NaN</td>\n",
       "      <td>NaN</td>\n",
       "      <td>NaN</td>\n",
       "      <td>56999.0</td>\n",
       "    </tr>\n",
       "    <tr>\n",
       "      <th>12</th>\n",
       "      <td>NaN</td>\n",
       "      <td>NaN</td>\n",
       "      <td>8.0</td>\n",
       "      <td>Android</td>\n",
       "      <td>16899.0</td>\n",
       "    </tr>\n",
       "    <tr>\n",
       "      <th>13</th>\n",
       "      <td>NaN</td>\n",
       "      <td>NaN</td>\n",
       "      <td>6.0</td>\n",
       "      <td>iOS</td>\n",
       "      <td>54499.0</td>\n",
       "    </tr>\n",
       "    <tr>\n",
       "      <th>14</th>\n",
       "      <td>NaN</td>\n",
       "      <td>NaN</td>\n",
       "      <td>8.0</td>\n",
       "      <td>Android</td>\n",
       "      <td>7719.0</td>\n",
       "    </tr>\n",
       "    <tr>\n",
       "      <th>15</th>\n",
       "      <td>NaN</td>\n",
       "      <td>NaN</td>\n",
       "      <td>8.0</td>\n",
       "      <td>Android</td>\n",
       "      <td>8799.0</td>\n",
       "    </tr>\n",
       "    <tr>\n",
       "      <th>16</th>\n",
       "      <td>NaN</td>\n",
       "      <td>NaN</td>\n",
       "      <td>6.0</td>\n",
       "      <td>Android</td>\n",
       "      <td>6389.0</td>\n",
       "    </tr>\n",
       "    <tr>\n",
       "      <th>17</th>\n",
       "      <td>NaN</td>\n",
       "      <td>NaN</td>\n",
       "      <td>4.0</td>\n",
       "      <td>Android</td>\n",
       "      <td>6099.0</td>\n",
       "    </tr>\n",
       "    <tr>\n",
       "      <th>18</th>\n",
       "      <td>NaN</td>\n",
       "      <td>NaN</td>\n",
       "      <td>8.0</td>\n",
       "      <td>Android</td>\n",
       "      <td>15999.0</td>\n",
       "    </tr>\n",
       "    <tr>\n",
       "      <th>19</th>\n",
       "      <td>NaN</td>\n",
       "      <td>NaN</td>\n",
       "      <td>8.0</td>\n",
       "      <td>Android</td>\n",
       "      <td>15099.0</td>\n",
       "    </tr>\n",
       "    <tr>\n",
       "      <th>20</th>\n",
       "      <td>NaN</td>\n",
       "      <td>NaN</td>\n",
       "      <td>6.0</td>\n",
       "      <td>iOS</td>\n",
       "      <td>60999.0</td>\n",
       "    </tr>\n",
       "  </tbody>\n",
       "</table>\n",
       "</div>"
      ],
      "text/plain": [
       "    Dahili_Hafıza  Ekran_Boyutu  RAM_Kapasitesi İşletim_Sistemi    price\n",
       "1             NaN           NaN             NaN             NaN   5149.0\n",
       "2             NaN           NaN             NaN             NaN  50499.0\n",
       "3             NaN           NaN             4.0         Android   2999.0\n",
       "4             NaN           NaN             NaN             NaN  15999.0\n",
       "5             NaN           NaN             8.0         Android   8799.0\n",
       "6             NaN           NaN             NaN             NaN   2999.0\n",
       "7             NaN           NaN             4.0             iOS  28299.0\n",
       "8             NaN           NaN             4.0         Android   5149.0\n",
       "9             NaN           NaN             NaN             NaN  12599.0\n",
       "10            NaN           NaN             4.0         Android   2999.0\n",
       "11            NaN           NaN             NaN             NaN  56999.0\n",
       "12            NaN           NaN             8.0         Android  16899.0\n",
       "13            NaN           NaN             6.0             iOS  54499.0\n",
       "14            NaN           NaN             8.0         Android   7719.0\n",
       "15            NaN           NaN             8.0         Android   8799.0\n",
       "16            NaN           NaN             6.0         Android   6389.0\n",
       "17            NaN           NaN             4.0         Android   6099.0\n",
       "18            NaN           NaN             8.0         Android  15999.0\n",
       "19            NaN           NaN             8.0         Android  15099.0\n",
       "20            NaN           NaN             6.0             iOS  60999.0"
      ]
     },
     "execution_count": 159,
     "metadata": {},
     "output_type": "execute_result"
    }
   ],
   "source": [
    "teldata.head(20)"
   ]
  },
  {
   "cell_type": "code",
   "execution_count": 114,
   "id": "576bb7e6",
   "metadata": {
    "scrolled": false
   },
   "outputs": [
    {
     "data": {
      "text/plain": [
       "(157, 9)"
      ]
     },
     "execution_count": 114,
     "metadata": {},
     "output_type": "execute_result"
    }
   ],
   "source": [
    "teldata[teldata['price'] >= '50000' ].shape"
   ]
  },
  {
   "cell_type": "code",
   "execution_count": 115,
   "id": "5cbd16d3",
   "metadata": {},
   "outputs": [
    {
     "data": {
      "text/plain": [
       "(299, 9)"
      ]
     },
     "execution_count": 115,
     "metadata": {},
     "output_type": "execute_result"
    }
   ],
   "source": [
    "teldata[teldata['price'] <= '50000' ].shape"
   ]
  },
  {
   "cell_type": "code",
   "execution_count": 116,
   "id": "f8ce4e3d",
   "metadata": {},
   "outputs": [
    {
     "data": {
      "image/png": "[encoded data removed]",
      "text/plain": [
       "<Figure size 640x480 with 1 Axes>"
      ]
     },
     "metadata": {},
     "output_type": "display_data"
    }
   ],
   "source": [
    "plt.figure()\n",
    "plt.hist(teldata['price'], bins=100)\n",
    "plt.show()"
   ]
  },
  {
   "cell_type": "code",
   "execution_count": null,
   "id": "d0e28082",
   "metadata": {},
   "outputs": [],
   "source": []
  },
  {
   "cell_type": "code",
   "execution_count": null,
   "id": "e3bd78ed",
   "metadata": {},
   "outputs": [],
   "source": [
    "teldata['Dahili Hafıza']=teldata['Dahili Hafıza'].str.replace(\" GB\",\"\")"
   ]
  },
  {
   "cell_type": "code",
   "execution_count": null,
   "id": "62587947",
   "metadata": {},
   "outputs": [],
   "source": [
    "print(teldata['Dahili Hafıza'])"
   ]
  },
  {
   "cell_type": "code",
   "execution_count": null,
   "id": "9ed2fcb6",
   "metadata": {},
   "outputs": [],
   "source": [
    "teldata['Dahili Hafıza']=teldata['Dahili Hafıza'].str.replace(\" TB\",\"\")"
   ]
  },
  {
   "cell_type": "code",
   "execution_count": null,
   "id": "13b0e2c2",
   "metadata": {},
   "outputs": [],
   "source": [
    "print(teldata['Dahili Hafıza'])"
   ]
  },
  {
   "cell_type": "code",
   "execution_count": null,
   "id": "b6a08fdb",
   "metadata": {},
   "outputs": [],
   "source": [
    "print(teldata['Ekran Boyutu'])"
   ]
  },
  {
   "cell_type": "code",
   "execution_count": null,
   "id": "2a2d0fa0",
   "metadata": {},
   "outputs": [],
   "source": [
    "teldata['Ekran Boyutu']=teldata['Ekran Boyutu'].str.replace(\" inç\",\"\")"
   ]
  },
  {
   "cell_type": "code",
   "execution_count": 118,
   "id": "7ff07a9b",
   "metadata": {},
   "outputs": [
    {
     "name": "stdout",
     "output_type": "stream",
     "text": [
      "0              NaN\n",
      "1              NaN\n",
      "2              NaN\n",
      "3          6,7 inç\n",
      "4              NaN\n",
      "          ...     \n",
      "451       6,67 inç\n",
      "452     7 - 10 inç\n",
      "453            NaN\n",
      "454    4 - 4,5 inç\n",
      "455            NaN\n",
      "Name: Ekran Boyutu, Length: 456, dtype: object\n"
     ]
    }
   ],
   "source": [
    "print(teldata['Ekran Boyutu'])"
   ]
  },
  {
   "cell_type": "code",
   "execution_count": 119,
   "id": "956de92b",
   "metadata": {},
   "outputs": [],
   "source": [
    "teldata = teldata.drop(['Ekran Cinsi','Kamera Çözünürlüğü','Pil Gücü (mAh)'], axis=1)"
   ]
  },
  {
   "cell_type": "code",
   "execution_count": 120,
   "id": "02ebb9a5",
   "metadata": {},
   "outputs": [
    {
     "data": {
      "text/html": [
       "<div>\n",
       "<style scoped>\n",
       "    .dataframe tbody tr th:only-of-type {\n",
       "        vertical-align: middle;\n",
       "    }\n",
       "\n",
       "    .dataframe tbody tr th {\n",
       "        vertical-align: top;\n",
       "    }\n",
       "\n",
       "    .dataframe thead th {\n",
       "        text-align: right;\n",
       "    }\n",
       "</style>\n",
       "<table border=\"1\" class=\"dataframe\">\n",
       "  <thead>\n",
       "    <tr style=\"text-align: right;\">\n",
       "      <th></th>\n",
       "      <th>Dahili Hafıza</th>\n",
       "      <th>Ekran Boyutu</th>\n",
       "      <th>RAM Kapasitesi</th>\n",
       "      <th>İşletim Sistemi</th>\n",
       "      <th>url</th>\n",
       "      <th>price</th>\n",
       "    </tr>\n",
       "  </thead>\n",
       "  <tbody>\n",
       "    <tr>\n",
       "      <th>0</th>\n",
       "      <td>NaN</td>\n",
       "      <td>NaN</td>\n",
       "      <td>NaN</td>\n",
       "      <td>NaN</td>\n",
       "      <td>https://www.trendyol.com//xiaomi/redmi-12-128-...</td>\n",
       "      <td>7.612,31 TL</td>\n",
       "    </tr>\n",
       "    <tr>\n",
       "      <th>1</th>\n",
       "      <td>NaN</td>\n",
       "      <td>NaN</td>\n",
       "      <td>NaN</td>\n",
       "      <td>NaN</td>\n",
       "      <td>https://www.trendyol.com//xiaomi/redmi-12c-128...</td>\n",
       "      <td>5.149 TL</td>\n",
       "    </tr>\n",
       "    <tr>\n",
       "      <th>2</th>\n",
       "      <td>NaN</td>\n",
       "      <td>NaN</td>\n",
       "      <td>NaN</td>\n",
       "      <td>NaN</td>\n",
       "      <td>https://www.trendyol.com//apple/iphone-15-128-...</td>\n",
       "      <td>50.499 TL</td>\n",
       "    </tr>\n",
       "    <tr>\n",
       "      <th>3</th>\n",
       "      <td>128 GB</td>\n",
       "      <td>6,7 inç</td>\n",
       "      <td>4 GB</td>\n",
       "      <td>Android</td>\n",
       "      <td>https://www.trendyol.com//reeder/s19-max-pro-4...</td>\n",
       "      <td>2.999 TL</td>\n",
       "    </tr>\n",
       "    <tr>\n",
       "      <th>4</th>\n",
       "      <td>NaN</td>\n",
       "      <td>NaN</td>\n",
       "      <td>NaN</td>\n",
       "      <td>NaN</td>\n",
       "      <td>https://www.trendyol.com//samsung/galaxy-a54-5...</td>\n",
       "      <td>15.999 TL</td>\n",
       "    </tr>\n",
       "    <tr>\n",
       "      <th>5</th>\n",
       "      <td>128 GB</td>\n",
       "      <td>6,6 inç</td>\n",
       "      <td>8 GB</td>\n",
       "      <td>Android</td>\n",
       "      <td>https://www.trendyol.com//xiaomi/redmi-note-12...</td>\n",
       "      <td>8.799 TL</td>\n",
       "    </tr>\n",
       "    <tr>\n",
       "      <th>6</th>\n",
       "      <td>NaN</td>\n",
       "      <td>NaN</td>\n",
       "      <td>NaN</td>\n",
       "      <td>NaN</td>\n",
       "      <td>https://www.trendyol.com//reeder/s19-max-pro-4...</td>\n",
       "      <td>2.999 TL</td>\n",
       "    </tr>\n",
       "    <tr>\n",
       "      <th>7</th>\n",
       "      <td>128 GB</td>\n",
       "      <td>6,1 inç</td>\n",
       "      <td>4 GB</td>\n",
       "      <td>iOS</td>\n",
       "      <td>https://www.trendyol.com//apple/iphone-12-128-...</td>\n",
       "      <td>28.299 TL</td>\n",
       "    </tr>\n",
       "    <tr>\n",
       "      <th>8</th>\n",
       "      <td>64 GB</td>\n",
       "      <td>4 - 4,5 inç</td>\n",
       "      <td>4 GB</td>\n",
       "      <td>Android</td>\n",
       "      <td>https://www.trendyol.com//samsung/galaxy-a04s-...</td>\n",
       "      <td>5.149 TL</td>\n",
       "    </tr>\n",
       "    <tr>\n",
       "      <th>9</th>\n",
       "      <td>NaN</td>\n",
       "      <td>NaN</td>\n",
       "      <td>NaN</td>\n",
       "      <td>NaN</td>\n",
       "      <td>https://www.trendyol.com//xiaomi/redmi-note-12...</td>\n",
       "      <td>12.599 TL</td>\n",
       "    </tr>\n",
       "    <tr>\n",
       "      <th>10</th>\n",
       "      <td>128 GB</td>\n",
       "      <td>6,7 inç</td>\n",
       "      <td>4 GB</td>\n",
       "      <td>Android</td>\n",
       "      <td>https://www.trendyol.com//reeder/s19-max-pro-4...</td>\n",
       "      <td>2.999 TL</td>\n",
       "    </tr>\n",
       "    <tr>\n",
       "      <th>11</th>\n",
       "      <td>NaN</td>\n",
       "      <td>NaN</td>\n",
       "      <td>NaN</td>\n",
       "      <td>NaN</td>\n",
       "      <td>https://www.trendyol.com//apple/iphone-15-plus...</td>\n",
       "      <td>56.999 TL</td>\n",
       "    </tr>\n",
       "    <tr>\n",
       "      <th>12</th>\n",
       "      <td>256 GB</td>\n",
       "      <td>6,4 inç</td>\n",
       "      <td>8 GB</td>\n",
       "      <td>Android</td>\n",
       "      <td>https://www.trendyol.com//samsung/galaxy-a54-5...</td>\n",
       "      <td>16.899 TL</td>\n",
       "    </tr>\n",
       "    <tr>\n",
       "      <th>13</th>\n",
       "      <td>256 GB</td>\n",
       "      <td>6,1 inç</td>\n",
       "      <td>6 GB</td>\n",
       "      <td>iOS</td>\n",
       "      <td>https://www.trendyol.com//apple/iphone-15-256-...</td>\n",
       "      <td>54.499 TL</td>\n",
       "    </tr>\n",
       "    <tr>\n",
       "      <th>14</th>\n",
       "      <td>256 GB</td>\n",
       "      <td>6,7 inç</td>\n",
       "      <td>8 GB</td>\n",
       "      <td>Android</td>\n",
       "      <td>https://www.trendyol.com//realme/c55-256-gb-8-...</td>\n",
       "      <td>7.719 TL</td>\n",
       "    </tr>\n",
       "    <tr>\n",
       "      <th>15</th>\n",
       "      <td>128 GB</td>\n",
       "      <td>6,6 inç</td>\n",
       "      <td>8 GB</td>\n",
       "      <td>Android</td>\n",
       "      <td>https://www.trendyol.com//xiaomi/redmi-note-12...</td>\n",
       "      <td>8.799 TL</td>\n",
       "    </tr>\n",
       "    <tr>\n",
       "      <th>16</th>\n",
       "      <td>128 GB</td>\n",
       "      <td>6,7 inç</td>\n",
       "      <td>6 GB</td>\n",
       "      <td>Android</td>\n",
       "      <td>https://www.trendyol.com//realme/c55-128-gb-6-...</td>\n",
       "      <td>6.389 TL</td>\n",
       "    </tr>\n",
       "    <tr>\n",
       "      <th>17</th>\n",
       "      <td>128 GB</td>\n",
       "      <td>4 - 4,5 inç</td>\n",
       "      <td>4 GB</td>\n",
       "      <td>Android</td>\n",
       "      <td>https://www.trendyol.com//xiaomi/redmi-10-2022...</td>\n",
       "      <td>6.099 TL</td>\n",
       "    </tr>\n",
       "    <tr>\n",
       "      <th>18</th>\n",
       "      <td>256 GB</td>\n",
       "      <td>6,4 inç</td>\n",
       "      <td>8 GB</td>\n",
       "      <td>Android</td>\n",
       "      <td>https://www.trendyol.com//samsung/galaxy-a54-5...</td>\n",
       "      <td>15.999 TL</td>\n",
       "    </tr>\n",
       "    <tr>\n",
       "      <th>19</th>\n",
       "      <td>256 GB</td>\n",
       "      <td>6,7 inç</td>\n",
       "      <td>8 GB</td>\n",
       "      <td>Android</td>\n",
       "      <td>https://www.trendyol.com//poco/x5-pro-5g-256-g...</td>\n",
       "      <td>15.099 TL</td>\n",
       "    </tr>\n",
       "  </tbody>\n",
       "</table>\n",
       "</div>"
      ],
      "text/plain": [
       "   Dahili Hafıza Ekran Boyutu RAM Kapasitesi İşletim Sistemi  \\\n",
       "0            NaN          NaN            NaN             NaN   \n",
       "1            NaN          NaN            NaN             NaN   \n",
       "2            NaN          NaN            NaN             NaN   \n",
       "3         128 GB      6,7 inç           4 GB         Android   \n",
       "4            NaN          NaN            NaN             NaN   \n",
       "5         128 GB      6,6 inç           8 GB         Android   \n",
       "6            NaN          NaN            NaN             NaN   \n",
       "7         128 GB      6,1 inç           4 GB             iOS   \n",
       "8          64 GB  4 - 4,5 inç           4 GB         Android   \n",
       "9            NaN          NaN            NaN             NaN   \n",
       "10        128 GB      6,7 inç           4 GB         Android   \n",
       "11           NaN          NaN            NaN             NaN   \n",
       "12        256 GB      6,4 inç           8 GB         Android   \n",
       "13        256 GB      6,1 inç           6 GB             iOS   \n",
       "14        256 GB      6,7 inç           8 GB         Android   \n",
       "15        128 GB      6,6 inç           8 GB         Android   \n",
       "16        128 GB      6,7 inç           6 GB         Android   \n",
       "17        128 GB  4 - 4,5 inç           4 GB         Android   \n",
       "18        256 GB      6,4 inç           8 GB         Android   \n",
       "19        256 GB      6,7 inç           8 GB         Android   \n",
       "\n",
       "                                                  url        price  \n",
       "0   https://www.trendyol.com//xiaomi/redmi-12-128-...  7.612,31 TL  \n",
       "1   https://www.trendyol.com//xiaomi/redmi-12c-128...     5.149 TL  \n",
       "2   https://www.trendyol.com//apple/iphone-15-128-...    50.499 TL  \n",
       "3   https://www.trendyol.com//reeder/s19-max-pro-4...     2.999 TL  \n",
       "4   https://www.trendyol.com//samsung/galaxy-a54-5...    15.999 TL  \n",
       "5   https://www.trendyol.com//xiaomi/redmi-note-12...     8.799 TL  \n",
       "6   https://www.trendyol.com//reeder/s19-max-pro-4...     2.999 TL  \n",
       "7   https://www.trendyol.com//apple/iphone-12-128-...    28.299 TL  \n",
       "8   https://www.trendyol.com//samsung/galaxy-a04s-...     5.149 TL  \n",
       "9   https://www.trendyol.com//xiaomi/redmi-note-12...    12.599 TL  \n",
       "10  https://www.trendyol.com//reeder/s19-max-pro-4...     2.999 TL  \n",
       "11  https://www.trendyol.com//apple/iphone-15-plus...    56.999 TL  \n",
       "12  https://www.trendyol.com//samsung/galaxy-a54-5...    16.899 TL  \n",
       "13  https://www.trendyol.com//apple/iphone-15-256-...    54.499 TL  \n",
       "14  https://www.trendyol.com//realme/c55-256-gb-8-...     7.719 TL  \n",
       "15  https://www.trendyol.com//xiaomi/redmi-note-12...     8.799 TL  \n",
       "16  https://www.trendyol.com//realme/c55-128-gb-6-...     6.389 TL  \n",
       "17  https://www.trendyol.com//xiaomi/redmi-10-2022...     6.099 TL  \n",
       "18  https://www.trendyol.com//samsung/galaxy-a54-5...    15.999 TL  \n",
       "19  https://www.trendyol.com//poco/x5-pro-5g-256-g...    15.099 TL  "
      ]
     },
     "execution_count": 120,
     "metadata": {},
     "output_type": "execute_result"
    }
   ],
   "source": [
    "teldata.head(20)"
   ]
  },
  {
   "cell_type": "code",
   "execution_count": 121,
   "id": "f40fd778",
   "metadata": {},
   "outputs": [],
   "source": [
    "teldata['RAM Kapasitesi']=teldata['RAM Kapasitesi'].str.replace(\" GB\",\"\")"
   ]
  },
  {
   "cell_type": "code",
   "execution_count": 122,
   "id": "6faa94b0",
   "metadata": {},
   "outputs": [
    {
     "name": "stdout",
     "output_type": "stream",
     "text": [
      "0      NaN\n",
      "1      NaN\n",
      "2      NaN\n",
      "3        4\n",
      "4      NaN\n",
      "      ... \n",
      "451      8\n",
      "452     12\n",
      "453    NaN\n",
      "454      4\n",
      "455    NaN\n",
      "Name: RAM Kapasitesi, Length: 456, dtype: object\n"
     ]
    }
   ],
   "source": [
    "print(teldata['RAM Kapasitesi'])"
   ]
  },
  {
   "cell_type": "code",
   "execution_count": 123,
   "id": "6892cc11",
   "metadata": {},
   "outputs": [
    {
     "name": "stdout",
     "output_type": "stream",
     "text": [
      "0      7.612,31 TL\n",
      "1         5.149 TL\n",
      "2        50.499 TL\n",
      "3         2.999 TL\n",
      "4        15.999 TL\n",
      "          ...     \n",
      "451       9.999 TL\n",
      "452      76.999 TL\n",
      "453       7.900 TL\n",
      "454       4.235 TL\n",
      "455       5.799 TL\n",
      "Name: price, Length: 456, dtype: object\n"
     ]
    }
   ],
   "source": [
    "print(teldata['price'])"
   ]
  },
  {
   "cell_type": "code",
   "execution_count": 124,
   "id": "5133c688",
   "metadata": {},
   "outputs": [],
   "source": [
    "teldata['price']=teldata['price'].str.replace(\" TL\",\"\")"
   ]
  },
  {
   "cell_type": "code",
   "execution_count": 125,
   "id": "25c861fe",
   "metadata": {},
   "outputs": [],
   "source": [
    "teldata = teldata.drop(['url'], axis=1)"
   ]
  },
  {
   "cell_type": "code",
   "execution_count": 126,
   "id": "ff0ca6bd",
   "metadata": {},
   "outputs": [
    {
     "name": "stdout",
     "output_type": "stream",
     "text": [
      "    Dahili Hafıza Ekran Boyutu RAM Kapasitesi İşletim Sistemi     price\n",
      "0             NaN          NaN            NaN             NaN  7.612,31\n",
      "1             NaN          NaN            NaN             NaN     5.149\n",
      "2             NaN          NaN            NaN             NaN    50.499\n",
      "3          128 GB      6,7 inç              4         Android     2.999\n",
      "4             NaN          NaN            NaN             NaN    15.999\n",
      "..            ...          ...            ...             ...       ...\n",
      "451        256 GB     6,67 inç              8         Android     9.999\n",
      "452          1 TB   7 - 10 inç             12         Android    76.999\n",
      "453           NaN          NaN            NaN             NaN     7.900\n",
      "454        128 GB  4 - 4,5 inç              4         Android     4.235\n",
      "455           NaN          NaN            NaN             NaN     5.799\n",
      "\n",
      "[456 rows x 5 columns]\n"
     ]
    }
   ],
   "source": [
    "print(teldata)"
   ]
  },
  {
   "cell_type": "code",
   "execution_count": 127,
   "id": "3ee74740",
   "metadata": {},
   "outputs": [
    {
     "data": {
      "text/plain": [
       "0      7.612,31\n",
       "1         5.149\n",
       "2        50.499\n",
       "3         2.999\n",
       "4        15.999\n",
       "         ...   \n",
       "451       9.999\n",
       "452      76.999\n",
       "453       7.900\n",
       "454       4.235\n",
       "455       5.799\n",
       "Name: price, Length: 456, dtype: object"
      ]
     },
     "execution_count": 127,
     "metadata": {},
     "output_type": "execute_result"
    }
   ],
   "source": [
    "teldata[\"price\"]"
   ]
  },
  {
   "cell_type": "code",
   "execution_count": 128,
   "id": "4b9c681d",
   "metadata": {},
   "outputs": [],
   "source": [
    "teldata = teldata.drop([0], axis=0)"
   ]
  },
  {
   "cell_type": "code",
   "execution_count": 129,
   "id": "4e1a672d",
   "metadata": {},
   "outputs": [
    {
     "data": {
      "text/plain": [
       "1       5.149\n",
       "2      50.499\n",
       "3       2.999\n",
       "4      15.999\n",
       "5       8.799\n",
       "        ...  \n",
       "451     9.999\n",
       "452    76.999\n",
       "453     7.900\n",
       "454     4.235\n",
       "455     5.799\n",
       "Name: price, Length: 455, dtype: object"
      ]
     },
     "execution_count": 129,
     "metadata": {},
     "output_type": "execute_result"
    }
   ],
   "source": [
    "teldata[\"price\"]"
   ]
  },
  {
   "cell_type": "code",
   "execution_count": 130,
   "id": "bd88b2bd",
   "metadata": {},
   "outputs": [
    {
     "data": {
      "text/html": [
       "<div>\n",
       "<style scoped>\n",
       "    .dataframe tbody tr th:only-of-type {\n",
       "        vertical-align: middle;\n",
       "    }\n",
       "\n",
       "    .dataframe tbody tr th {\n",
       "        vertical-align: top;\n",
       "    }\n",
       "\n",
       "    .dataframe thead th {\n",
       "        text-align: right;\n",
       "    }\n",
       "</style>\n",
       "<table border=\"1\" class=\"dataframe\">\n",
       "  <thead>\n",
       "    <tr style=\"text-align: right;\">\n",
       "      <th></th>\n",
       "      <th>Dahili Hafıza</th>\n",
       "      <th>Ekran Boyutu</th>\n",
       "      <th>RAM Kapasitesi</th>\n",
       "      <th>İşletim Sistemi</th>\n",
       "      <th>price</th>\n",
       "    </tr>\n",
       "  </thead>\n",
       "  <tbody>\n",
       "    <tr>\n",
       "      <th>1</th>\n",
       "      <td>NaN</td>\n",
       "      <td>NaN</td>\n",
       "      <td>NaN</td>\n",
       "      <td>NaN</td>\n",
       "      <td>5.149</td>\n",
       "    </tr>\n",
       "    <tr>\n",
       "      <th>2</th>\n",
       "      <td>NaN</td>\n",
       "      <td>NaN</td>\n",
       "      <td>NaN</td>\n",
       "      <td>NaN</td>\n",
       "      <td>50.499</td>\n",
       "    </tr>\n",
       "    <tr>\n",
       "      <th>3</th>\n",
       "      <td>128 GB</td>\n",
       "      <td>6,7 inç</td>\n",
       "      <td>4</td>\n",
       "      <td>Android</td>\n",
       "      <td>2.999</td>\n",
       "    </tr>\n",
       "    <tr>\n",
       "      <th>4</th>\n",
       "      <td>NaN</td>\n",
       "      <td>NaN</td>\n",
       "      <td>NaN</td>\n",
       "      <td>NaN</td>\n",
       "      <td>15.999</td>\n",
       "    </tr>\n",
       "    <tr>\n",
       "      <th>5</th>\n",
       "      <td>128 GB</td>\n",
       "      <td>6,6 inç</td>\n",
       "      <td>8</td>\n",
       "      <td>Android</td>\n",
       "      <td>8.799</td>\n",
       "    </tr>\n",
       "    <tr>\n",
       "      <th>...</th>\n",
       "      <td>...</td>\n",
       "      <td>...</td>\n",
       "      <td>...</td>\n",
       "      <td>...</td>\n",
       "      <td>...</td>\n",
       "    </tr>\n",
       "    <tr>\n",
       "      <th>451</th>\n",
       "      <td>256 GB</td>\n",
       "      <td>6,67 inç</td>\n",
       "      <td>8</td>\n",
       "      <td>Android</td>\n",
       "      <td>9.999</td>\n",
       "    </tr>\n",
       "    <tr>\n",
       "      <th>452</th>\n",
       "      <td>1 TB</td>\n",
       "      <td>7 - 10 inç</td>\n",
       "      <td>12</td>\n",
       "      <td>Android</td>\n",
       "      <td>76.999</td>\n",
       "    </tr>\n",
       "    <tr>\n",
       "      <th>453</th>\n",
       "      <td>NaN</td>\n",
       "      <td>NaN</td>\n",
       "      <td>NaN</td>\n",
       "      <td>NaN</td>\n",
       "      <td>7.900</td>\n",
       "    </tr>\n",
       "    <tr>\n",
       "      <th>454</th>\n",
       "      <td>128 GB</td>\n",
       "      <td>4 - 4,5 inç</td>\n",
       "      <td>4</td>\n",
       "      <td>Android</td>\n",
       "      <td>4.235</td>\n",
       "    </tr>\n",
       "    <tr>\n",
       "      <th>455</th>\n",
       "      <td>NaN</td>\n",
       "      <td>NaN</td>\n",
       "      <td>NaN</td>\n",
       "      <td>NaN</td>\n",
       "      <td>5.799</td>\n",
       "    </tr>\n",
       "  </tbody>\n",
       "</table>\n",
       "<p>455 rows × 5 columns</p>\n",
       "</div>"
      ],
      "text/plain": [
       "    Dahili Hafıza Ekran Boyutu RAM Kapasitesi İşletim Sistemi   price\n",
       "1             NaN          NaN            NaN             NaN   5.149\n",
       "2             NaN          NaN            NaN             NaN  50.499\n",
       "3          128 GB      6,7 inç              4         Android   2.999\n",
       "4             NaN          NaN            NaN             NaN  15.999\n",
       "5          128 GB      6,6 inç              8         Android   8.799\n",
       "..            ...          ...            ...             ...     ...\n",
       "451        256 GB     6,67 inç              8         Android   9.999\n",
       "452          1 TB   7 - 10 inç             12         Android  76.999\n",
       "453           NaN          NaN            NaN             NaN   7.900\n",
       "454        128 GB  4 - 4,5 inç              4         Android   4.235\n",
       "455           NaN          NaN            NaN             NaN   5.799\n",
       "\n",
       "[455 rows x 5 columns]"
      ]
     },
     "execution_count": 130,
     "metadata": {},
     "output_type": "execute_result"
    }
   ],
   "source": [
    "teldata.head(457)"
   ]
  },
  {
   "cell_type": "code",
   "execution_count": 131,
   "id": "a58e76c0",
   "metadata": {},
   "outputs": [
    {
     "name": "stdout",
     "output_type": "stream",
     "text": [
      "    Dahili Hafıza Ekran Boyutu RAM Kapasitesi İşletim Sistemi   price\n",
      "1             NaN          NaN            NaN             NaN   5.149\n",
      "2             NaN          NaN            NaN             NaN  50.499\n",
      "3          128 GB      6,7 inç              4         Android   2.999\n",
      "4             NaN          NaN            NaN             NaN  15.999\n",
      "5          128 GB      6,6 inç              8         Android   8.799\n",
      "..            ...          ...            ...             ...     ...\n",
      "451        256 GB     6,67 inç              8         Android   9.999\n",
      "452          1 TB   7 - 10 inç             12         Android  76.999\n",
      "453           NaN          NaN            NaN             NaN   7.900\n",
      "454        128 GB  4 - 4,5 inç              4         Android   4.235\n",
      "455           NaN          NaN            NaN             NaN   5.799\n",
      "\n",
      "[455 rows x 5 columns]\n"
     ]
    }
   ],
   "source": [
    "df = pd.DataFrame(teldata)\n",
    "df['price'] = pd.to_numeric(df['price'], errors='coerce')\n",
    "print(df)"
   ]
  },
  {
   "cell_type": "code",
   "execution_count": 132,
   "id": "fdd86992",
   "metadata": {},
   "outputs": [],
   "source": [
    "for i in range(0,100):\n",
    "    teldata[\"price\"] = teldata.price.str.replace(',{}'.format(i), '')\n",
    "\n",
    "teldata[\"price\"] = teldata.price.str.replace(',00'.format(i), '')\n",
    "teldata[\"price\"] = teldata.price.str.replace(',01'.format(i), '')\n",
    "teldata[\"price\"] = teldata.price.str.replace(',02'.format(i), '')\n",
    "teldata[\"price\"] = teldata.price.str.replace(',03'.format(i), '')\n",
    "teldata[\"price\"] = teldata.price.str.replace(',04'.format(i), '')\n",
    "teldata[\"price\"] = teldata.price.str.replace(',05'.format(i), '')\n",
    "teldata[\"price\"] = teldata.price.str.replace(',06'.format(i), '')\n",
    "teldata[\"price\"] = teldata.price.str.replace(',07'.format(i), '')\n",
    "teldata[\"price\"] = teldata.price.str.replace(',08'.format(i), '')\n",
    "teldata[\"price\"] = teldata.price.str.replace(',09'.format(i), '')\n",
    "teldata[\"price\"] = teldata.price.str.replace('.', '')"
   ]
  },
  {
   "cell_type": "code",
   "execution_count": 133,
   "id": "ca8297ca",
   "metadata": {},
   "outputs": [],
   "source": [
    "teldata[\"price\"] = teldata.price.astype(float)"
   ]
  },
  {
   "cell_type": "code",
   "execution_count": 134,
   "id": "40ec61c7",
   "metadata": {},
   "outputs": [
    {
     "data": {
      "text/plain": [
       "1       5149.0\n",
       "2      50499.0\n",
       "3       2999.0\n",
       "4      15999.0\n",
       "5       8799.0\n",
       "        ...   \n",
       "451     9999.0\n",
       "452    76999.0\n",
       "453     7900.0\n",
       "454     4235.0\n",
       "455     5799.0\n",
       "Name: price, Length: 455, dtype: float64"
      ]
     },
     "execution_count": 134,
     "metadata": {},
     "output_type": "execute_result"
    }
   ],
   "source": [
    "teldata[\"price\"]"
   ]
  },
  {
   "cell_type": "code",
   "execution_count": 135,
   "id": "5dcd0156",
   "metadata": {},
   "outputs": [
    {
     "data": {
      "text/plain": [
       "1         NaN\n",
       "2         NaN\n",
       "3      128 GB\n",
       "4         NaN\n",
       "5      128 GB\n",
       "        ...  \n",
       "451    256 GB\n",
       "452      1 TB\n",
       "453       NaN\n",
       "454    128 GB\n",
       "455       NaN\n",
       "Name: Dahili Hafıza, Length: 455, dtype: object"
      ]
     },
     "execution_count": 135,
     "metadata": {},
     "output_type": "execute_result"
    }
   ],
   "source": [
    "teldata[\"Dahili Hafıza\"]"
   ]
  },
  {
   "cell_type": "code",
   "execution_count": 136,
   "id": "5e81bc8d",
   "metadata": {},
   "outputs": [
    {
     "data": {
      "text/plain": [
       "1              NaN\n",
       "2              NaN\n",
       "3          6,7 inç\n",
       "4              NaN\n",
       "5          6,6 inç\n",
       "          ...     \n",
       "451       6,67 inç\n",
       "452     7 - 10 inç\n",
       "453            NaN\n",
       "454    4 - 4,5 inç\n",
       "455            NaN\n",
       "Name: Ekran Boyutu, Length: 455, dtype: object"
      ]
     },
     "execution_count": 136,
     "metadata": {},
     "output_type": "execute_result"
    }
   ],
   "source": [
    "teldata[\"Ekran Boyutu\"]"
   ]
  },
  {
   "cell_type": "code",
   "execution_count": 137,
   "id": "310ccf53",
   "metadata": {},
   "outputs": [
    {
     "data": {
      "text/plain": [
       "1      NaN\n",
       "2      NaN\n",
       "3        4\n",
       "4      NaN\n",
       "5        8\n",
       "      ... \n",
       "451      8\n",
       "452     12\n",
       "453    NaN\n",
       "454      4\n",
       "455    NaN\n",
       "Name: RAM Kapasitesi, Length: 455, dtype: object"
      ]
     },
     "execution_count": 137,
     "metadata": {},
     "output_type": "execute_result"
    }
   ],
   "source": [
    "teldata[\"RAM Kapasitesi\"]"
   ]
  },
  {
   "cell_type": "code",
   "execution_count": 138,
   "id": "32de8faa",
   "metadata": {},
   "outputs": [
    {
     "data": {
      "text/plain": [
       "1          NaN\n",
       "2          NaN\n",
       "3      Android\n",
       "4          NaN\n",
       "5      Android\n",
       "        ...   \n",
       "451    Android\n",
       "452    Android\n",
       "453        NaN\n",
       "454    Android\n",
       "455        NaN\n",
       "Name: İşletim Sistemi, Length: 455, dtype: object"
      ]
     },
     "execution_count": 138,
     "metadata": {},
     "output_type": "execute_result"
    }
   ],
   "source": [
    "teldata[\"İşletim Sistemi\"]"
   ]
  },
  {
   "cell_type": "code",
   "execution_count": 139,
   "id": "09626bdf",
   "metadata": {},
   "outputs": [],
   "source": [
    "teldata=teldata.rename(columns = {'Dahili Hafıza':'Dahili_Hafıza','Ekran Boyutu':'Ekran_Boyutu','RAM Kapasitesi':'RAM_Kapasitesi','İşletim Sistemi':'İşletim_Sistemi'})\n"
   ]
  },
  {
   "cell_type": "code",
   "execution_count": 140,
   "id": "52d91eba",
   "metadata": {},
   "outputs": [],
   "source": [
    "df = pd.DataFrame(teldata)\n",
    "df['Dahili_Hafıza'] = pd.to_numeric(df['Dahili_Hafıza'], errors='coerce')\n",
    "teldata=df"
   ]
  },
  {
   "cell_type": "code",
   "execution_count": 141,
   "id": "503c7065",
   "metadata": {},
   "outputs": [],
   "source": [
    "df = pd.DataFrame(teldata)\n",
    "df['Ekran_Boyutu'] = pd.to_numeric(df['Ekran_Boyutu'], errors='coerce')\n",
    "teldata=df"
   ]
  },
  {
   "cell_type": "code",
   "execution_count": 142,
   "id": "ade65c07",
   "metadata": {},
   "outputs": [],
   "source": [
    "df = pd.DataFrame(teldata)\n",
    "df['RAM_Kapasitesi'] = pd.to_numeric(df['RAM_Kapasitesi'], errors='coerce')\n",
    "teldata=df"
   ]
  },
  {
   "cell_type": "code",
   "execution_count": 144,
   "id": "c4ec9d09",
   "metadata": {},
   "outputs": [
    {
     "data": {
      "text/plain": [
       "1          NaN\n",
       "2          NaN\n",
       "3      Android\n",
       "4          NaN\n",
       "5      Android\n",
       "        ...   \n",
       "451    Android\n",
       "452    Android\n",
       "453        NaN\n",
       "454    Android\n",
       "455        NaN\n",
       "Name: İşletim_Sistemi, Length: 455, dtype: object"
      ]
     },
     "execution_count": 144,
     "metadata": {},
     "output_type": "execute_result"
    }
   ],
   "source": [
    "teldata[\"İşletim_Sistemi\"]"
   ]
  },
  {
   "cell_type": "code",
   "execution_count": 158,
   "id": "8d0dc40e",
   "metadata": {},
   "outputs": [
    {
     "data": {
      "text/plain": [
       "Dahili_Hafıza      455\n",
       "Ekran_Boyutu       455\n",
       "RAM_Kapasitesi     110\n",
       "İşletim_Sistemi    136\n",
       "price                0\n",
       "dtype: int64"
      ]
     },
     "execution_count": 158,
     "metadata": {},
     "output_type": "execute_result"
    }
   ],
   "source": [
    "teldata.isna().sum()"
   ]
  },
  {
   "cell_type": "code",
   "execution_count": null,
   "id": "f441e56e",
   "metadata": {},
   "outputs": [],
   "source": [
    "\n"
   ]
  },
  {
   "cell_type": "code",
   "execution_count": null,
   "id": "4ec130fa",
   "metadata": {},
   "outputs": [],
   "source": []
  },
  {
   "cell_type": "code",
   "execution_count": null,
   "id": "783f910c",
   "metadata": {},
   "outputs": [],
   "source": []
  },
  {
   "cell_type": "code",
   "execution_count": null,
   "id": "28a5a168",
   "metadata": {},
   "outputs": [],
   "source": []
  }
 ],
 "metadata": {
  "kernelspec": {
   "display_name": "Python 3 (ipykernel)",
   "language": "python",
   "name": "python3"
  },
  "language_info": {
   "codemirror_mode": {
    "name": "ipython",
    "version": 3
   },
   "file_extension": ".py",
   "mimetype": "text/x-python",
   "name": "python",
   "nbconvert_exporter": "python",
   "pygments_lexer": "ipython3",
   "version": "3.11.5"
  }
 },
 "nbformat": 4,
 "nbformat_minor": 5
}
